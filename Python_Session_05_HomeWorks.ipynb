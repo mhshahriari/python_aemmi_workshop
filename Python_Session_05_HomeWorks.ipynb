{
 "cells": [
  {
   "cell_type": "code",
   "execution_count": null,
   "metadata": {},
   "outputs": [],
   "source": [
    "#1 translator"
   ]
  },
  {
   "cell_type": "code",
   "execution_count": 22,
   "metadata": {},
   "outputs": [
    {
     "name": "stdout",
     "output_type": "stream",
     "text": [
      "1- Add new word\n",
      "2- tranlate english2persian\n",
      "3- translate persian2english\n",
      "4- Exit\n",
      "\n",
      "Please enter option#:4\n",
      "Good bye...\n"
     ]
    }
   ],
   "source": [
    "import os.path\n",
    "\n",
    "def check_file(path):\n",
    "    if os.path.isfile(path) == False:\n",
    "        print (\"File not exist\")\n",
    "        exit()\n",
    "    \n",
    "\n",
    "\n",
    "\n",
    "def init():\n",
    "    #print('loading...')\n",
    "    f = open('translate.txt', 'r')\n",
    "    big_text = f.read()\n",
    "    parts = big_text.split('\\n')\n",
    "    #print('data loaded')\n",
    "    f.close\n",
    "    return parts\n",
    "\n",
    "def create_dictionary(parts):\n",
    "    words=[]\n",
    "    i=0\n",
    "    while i < len(parts):\n",
    "        my_dict = {'english':parts[i], 'persian':parts[i+1]}\n",
    "        words.append(my_dict)\n",
    "        i += 2\n",
    "    return words\n",
    "\n",
    "\n",
    "def check_duplication(words, new_word, language):\n",
    "    for i in range(len(words)):\n",
    "        if words[i][language] == new_word:\n",
    "            return True\n",
    "            break\n",
    "    else: #not found\n",
    "        return False\n",
    "#         if words.count(new_word) > 0:\n",
    "#             return False\n",
    "#         else:\n",
    "#             return True\n",
    "        \n",
    "    \n",
    "\n",
    "def main():\n",
    "    \n",
    "    check_file(\"translate.txt\")\n",
    "    \n",
    "    print(\"1- Add new word\")\n",
    "    print(\"2- tranlate english2persian\")\n",
    "    print(\"3- translate persian2english\")\n",
    "    print(\"4- Exit\")\n",
    "\n",
    "    #user_choice_index = int(input(\"Please enter option#:\"))\n",
    "\n",
    "    while (True):\n",
    "        user_choice_index = int(input(\"\\nPlease enter option#:\"))\n",
    "        if user_choice_index == 4:\n",
    "            print(\"Good bye...\")\n",
    "            break\n",
    "        elif user_choice_index == 1:\n",
    "            en_word = input('english word:')\n",
    "            if check_duplication(create_dictionary(init()), en_word,'english') == False:  \n",
    "                fa_word = input('farsi word:')\n",
    "                f = open('translate.txt', 'a')\n",
    "                f.write('\\n')\n",
    "                f.write(en_word)\n",
    "                f.write('\\n')\n",
    "                f.write(fa_word)\n",
    "                print('word added successfully')\n",
    "                f.close()\n",
    "            else:\n",
    "                print('word is duplicate!!!')\n",
    "        elif user_choice_index == 2:\n",
    "            print('please enter your english text:')\n",
    "            user_string = input()\n",
    "            sentences = user_string.split('.')\n",
    "            for s in sentences:\n",
    "                user_words = s.split(' ')\n",
    "                words = create_dictionary(init())\n",
    "                for j in range(len(user_words)):\n",
    "                    for i in range(len(words)):\n",
    "                        if words[i]['english'] == user_words[j]:\n",
    "                            print(words[i]['persian'], end=' ')\n",
    "                            break\n",
    "                    else: #not found\n",
    "                        print(user_words[j], end=' ')\n",
    "                print('.', end='')\n",
    "        elif user_choice_index == 3:\n",
    "            print('please enter your finglish text:')\n",
    "            user_string = input()\n",
    "            sentences = user_string.split('.')\n",
    "            for s in sentences:\n",
    "                user_words = s.split(' ')\n",
    "                words = create_dictionary(init())\n",
    "                for j in range(len(user_words)):\n",
    "                    for i in range(len(words)):\n",
    "                        if words[i]['persian'] == user_words[j]:\n",
    "                            print(words[i]['english'], end=' ')\n",
    "                            break\n",
    "                    else: #not found\n",
    "                        print(user_words[j], end=' ')\n",
    "                print('.', end='')\n",
    "\n",
    "\n",
    "main()"
   ]
  },
  {
   "cell_type": "code",
   "execution_count": null,
   "metadata": {},
   "outputs": [],
   "source": []
  },
  {
   "cell_type": "code",
   "execution_count": null,
   "metadata": {},
   "outputs": [],
   "source": [
    "#2 set example"
   ]
  },
  {
   "cell_type": "code",
   "execution_count": 2,
   "metadata": {},
   "outputs": [
    {
     "name": "stdout",
     "output_type": "stream",
     "text": [
      "Please enter number of ditigs set A:3\n",
      "enter digit#1\n",
      "enter digit#2\n",
      "enter digit#4\n",
      "Please enter number of ditigs set B:1\n",
      "2\n",
      "{1, 2, 4} {2}\n",
      "union a & b: {1, 2, 4}\n",
      "inernsection a & b: {2}\n"
     ]
    }
   ],
   "source": [
    "\n",
    "\n",
    "n = int(input(\"Please enter number of ditigs set A:\"))\n",
    "a = {int(input('enter digit#')) for i in range(n)}\n",
    "m = int(input(\"Please enter number of ditigs set B:\"))\n",
    "b = {int(input()) for i in range(m)}\n",
    "\n",
    "print(a, b)\n",
    "\n",
    "u = a.union(b)\n",
    "print(\"union a & b:\", u)\n",
    "\n",
    "z = a.intersection(b)\n",
    "print(\"inernsection a & b:\", z)\n",
    "\n",
    "\n"
   ]
  },
  {
   "cell_type": "markdown",
   "metadata": {},
   "source": [
    " "
   ]
  },
  {
   "cell_type": "code",
   "execution_count": null,
   "metadata": {},
   "outputs": [],
   "source": [
    "#3 fibonachi"
   ]
  },
  {
   "cell_type": "code",
   "execution_count": 6,
   "metadata": {},
   "outputs": [
    {
     "name": "stdout",
     "output_type": "stream",
     "text": [
      "Please enter number:8\n",
      "(0, 1, 1, 2, 3, 5, 8, 13)\n"
     ]
    }
   ],
   "source": [
    "t = (0, 1)\n",
    "n = int(input(\"Please enter number:\"))\n",
    "\n",
    "for i in range (2,n):\n",
    "    y = list(t)\n",
    "    num = y[i-1] + y[i-2]\n",
    "    y.append(num)\n",
    "    t = tuple(y)\n",
    "print(t)\n"
   ]
  },
  {
   "cell_type": "code",
   "execution_count": null,
   "metadata": {},
   "outputs": [],
   "source": []
  },
  {
   "cell_type": "code",
   "execution_count": null,
   "metadata": {},
   "outputs": [],
   "source": [
    "#4 khayyam triangle\n"
   ]
  },
  {
   "cell_type": "code",
   "execution_count": 27,
   "metadata": {},
   "outputs": [
    {
     "name": "stdout",
     "output_type": "stream",
     "text": [
      "Please enter number:20\n",
      "\n",
      "1 \n",
      "1 1 \n",
      "1 2 1 \n",
      "1 3 3 1 \n",
      "1 4 6 4 1 \n",
      "1 5 10 10 5 1 \n",
      "1 6 15 20 15 6 1 \n",
      "1 7 21 35 35 21 7 1 \n",
      "1 8 28 56 70 56 28 8 1 \n",
      "1 9 36 84 126 126 84 36 9 1 \n",
      "1 10 45 120 210 252 210 120 45 10 1 \n",
      "1 11 55 165 330 462 462 330 165 55 11 1 \n",
      "1 12 66 220 495 792 924 792 495 220 66 12 1 \n",
      "1 13 78 286 715 1287 1716 1716 1287 715 286 78 13 1 \n",
      "1 14 91 364 1001 2002 3003 3432 3003 2002 1001 364 91 14 1 \n",
      "1 15 105 455 1365 3003 5005 6435 6435 5005 3003 1365 455 105 15 1 \n",
      "1 16 120 560 1820 4368 8008 11440 12870 11440 8008 4368 1820 560 120 16 1 \n",
      "1 17 136 680 2380 6188 12376 19448 24310 24310 19448 12376 6188 2380 680 136 17 1 \n",
      "1 18 153 816 3060 8568 18564 31824 43758 48620 43758 31824 18564 8568 3060 816 153 18 1 \n"
     ]
    }
   ],
   "source": [
    "#init\n",
    "n = int(input(\"Please enter number:\"))\n",
    "a = [[0 for i in range(n)] for j in range(n)]\n",
    "\n",
    "for i in range (n):\n",
    "     a[i][0] = 1 \n",
    "\n",
    "#print(a)\n",
    "\n",
    "#process\n",
    "for i in range (1,n):\n",
    "    for j in range(1,i):\n",
    "        a[i][j] = a[i-1][j] + a[i-1][j-1] \n",
    "        \n",
    "\n",
    "        \n",
    "#result\n",
    "for i in range (n):\n",
    "    for j in range(i):\n",
    "        print(a[i][j], end=' ')\n",
    "    print()"
   ]
  }
 ],
 "metadata": {
  "kernelspec": {
   "display_name": "Python 3",
   "language": "python",
   "name": "python3"
  },
  "language_info": {
   "codemirror_mode": {
    "name": "ipython",
    "version": 3
   },
   "file_extension": ".py",
   "mimetype": "text/x-python",
   "name": "python",
   "nbconvert_exporter": "python",
   "pygments_lexer": "ipython3",
   "version": "3.8.3"
  }
 },
 "nbformat": 4,
 "nbformat_minor": 4
}
