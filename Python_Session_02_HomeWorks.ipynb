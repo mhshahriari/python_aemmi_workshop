{
 "cells": [
  {
   "cell_type": "code",
   "execution_count": null,
   "metadata": {},
   "outputs": [],
   "source": []
  },
  {
   "cell_type": "code",
   "execution_count": 26,
   "metadata": {},
   "outputs": [
    {
     "name": "stdout",
     "output_type": "stream",
     "text": [
      "Press Enter for start:\n",
      "6\n",
      "1\n"
     ]
    }
   ],
   "source": [
    "#2 ------ dice\n",
    "import random\n",
    "\n",
    "input(\"Press Enter for start:\")\n",
    "\n",
    "    \n",
    "num = random.randint(1, 6)\n",
    "print(num)\n",
    "if num == 6:\n",
    "    num2 = random.randint(1, 6)\n",
    "    print(num2)\n",
    "\n",
    "   "
   ]
  },
  {
   "cell_type": "code",
   "execution_count": null,
   "metadata": {},
   "outputs": [],
   "source": []
  },
  {
   "cell_type": "code",
   "execution_count": null,
   "metadata": {},
   "outputs": [],
   "source": [
    "#3 ----ب م م"
   ]
  },
  {
   "cell_type": "code",
   "execution_count": 14,
   "metadata": {},
   "outputs": [
    {
     "name": "stdout",
     "output_type": "stream",
     "text": [
      "Enter Number 1:60\n",
      "Enter Number 2:48\n",
      "12\n"
     ]
    }
   ],
   "source": [
    "a = int(input(\"Enter Number 1:\"))\n",
    "b = int(input(\"Enter Number 2:\"))\n",
    "\n",
    "if a > b:\n",
    "    c = b\n",
    "else:\n",
    "    c = a\n",
    "\n",
    "d = c\n",
    "for i in range(0,d):\n",
    "    if (a%c == 0 and b%c == 0):\n",
    "        result = c\n",
    "        break\n",
    "    c -=1\n",
    "print (result)"
   ]
  },
  {
   "cell_type": "code",
   "execution_count": null,
   "metadata": {},
   "outputs": [],
   "source": []
  },
  {
   "cell_type": "code",
   "execution_count": null,
   "metadata": {},
   "outputs": [],
   "source": [
    "#4 ----ک م م"
   ]
  },
  {
   "cell_type": "code",
   "execution_count": 11,
   "metadata": {},
   "outputs": [
    {
     "name": "stdout",
     "output_type": "stream",
     "text": [
      "Enter Number 1:8\n",
      "Enter Number 2:16\n",
      "16\n"
     ]
    }
   ],
   "source": [
    "a = int(input(\"Enter Number 1:\"))\n",
    "b = int(input(\"Enter Number 2:\"))\n",
    "\n",
    "if a > b:\n",
    "    c = a\n",
    "else:\n",
    "    c = b\n",
    "\n",
    "for i in range(c, (a*b)+1):\n",
    "    if((i % a == 0) and (i % b == 0)):\n",
    "        result = i\n",
    "        break\n",
    "  \n",
    "\n",
    "print (result)"
   ]
  },
  {
   "cell_type": "code",
   "execution_count": null,
   "metadata": {},
   "outputs": [],
   "source": [
    "\n"
   ]
  },
  {
   "cell_type": "code",
   "execution_count": null,
   "metadata": {},
   "outputs": [],
   "source": []
  },
  {
   "cell_type": "code",
   "execution_count": null,
   "metadata": {},
   "outputs": [],
   "source": [
    "#5 ----Time to Second"
   ]
  },
  {
   "cell_type": "code",
   "execution_count": 24,
   "metadata": {},
   "outputs": [
    {
     "name": "stdout",
     "output_type": "stream",
     "text": [
      "Enter Time:01:00:20\n",
      "3620  Seconds!\n"
     ]
    }
   ],
   "source": [
    "a = input(\"Enter Time:\")\n",
    "\n",
    "hour = int(a[0:2])\n",
    "minute = int(a[3:5])\n",
    "second = int(a[6:8])\n",
    "\n",
    "result = ((hour*60) + minute) * 60 + second\n",
    "\n",
    "print(str(result) + \"  Seconds!\")"
   ]
  },
  {
   "cell_type": "code",
   "execution_count": null,
   "metadata": {},
   "outputs": [],
   "source": []
  },
  {
   "cell_type": "code",
   "execution_count": null,
   "metadata": {},
   "outputs": [],
   "source": [
    "#6 ----Second to Time "
   ]
  },
  {
   "cell_type": "code",
   "execution_count": 32,
   "metadata": {},
   "outputs": [
    {
     "name": "stdout",
     "output_type": "stream",
     "text": [
      "Enter Seconds:3620\n",
      "01:00:20\n"
     ]
    }
   ],
   "source": [
    "a = int(input(\"Enter Seconds:\"))\n",
    "\n",
    "minute = a // 60\n",
    "second = a % 60\n",
    "hour = minute // 60\n",
    "minute = minute % 60\n",
    " \n",
    "if (hour < 10):\n",
    "    hour = \"0\" + str(hour)\n",
    "\n",
    "if (minute < 10):\n",
    "    minute = \"0\" + str(minute)\n",
    "     \n",
    "if (second < 10):\n",
    "    second = \"0\" + str(second) \n",
    "    \n",
    "print(str(hour) + \":\" + str(minute) + \":\" + str(second))     \n"
   ]
  },
  {
   "cell_type": "code",
   "execution_count": null,
   "metadata": {},
   "outputs": [],
   "source": []
  },
  {
   "cell_type": "code",
   "execution_count": null,
   "metadata": {},
   "outputs": [],
   "source": [
    "#6 ----List Sort, Max, Min"
   ]
  },
  {
   "cell_type": "code",
   "execution_count": 2,
   "metadata": {},
   "outputs": [
    {
     "name": "stdout",
     "output_type": "stream",
     "text": [
      "your Numbers:\n",
      "[2, 22, 11, 10, 4, 5, 6, 30, 36, 24, 35, 15, 18, 19, 8, 45, 32, 25, 56, 48]\n",
      "your Numbers Power 2:\n",
      "[4, 484, 121, 100, 16, 25, 36, 900, 1296, 576, 1225, 225, 324, 361, 64, 2025, 1024, 625, 3136, 2304]\n",
      "Maximum: 3136 and Minimum: 4\n"
     ]
    }
   ],
   "source": [
    "#sam_list = [2, 22, 11, 10 , 4, 5, 6, 30, 36, 24, 35, 15, 18, 19, 8, 45, 32, 25, 56, 48]\n",
    "sam_list =[]\n",
    "print (\"Please Enter 20 Numbers\")\n",
    "for i in range(0,20):\n",
    "    num = int(input(\"Enter number {0}:\".format(i+1)))\n",
    "    sam_list.append(num)\n",
    "\n",
    "print (\"your Numbers:\")\n",
    "print(sam_list)\n",
    "\n",
    "print (\"your Numbers Power 2:\")\n",
    "for i in range(0,20):\n",
    "    sam_list[i] **= 2\n",
    "print(sam_list)\n",
    "\n",
    "#----Max and Min\n",
    "max = sam_list[0]\n",
    "min = sam_list[0]\n",
    "for nums in sam_list:\n",
    "    if nums > max:\n",
    "        max = nums\n",
    "    if nums < min:\n",
    "        min = nums\n",
    "\n",
    "print(\"Maximum: {0} and Minimum: {1}\".format(max,min))\n",
    "    "
   ]
  },
  {
   "cell_type": "code",
   "execution_count": null,
   "metadata": {},
   "outputs": [],
   "source": []
  }
 ],
 "metadata": {
  "kernelspec": {
   "display_name": "Python 3",
   "language": "python",
   "name": "python3"
  }
 },
 "nbformat": 4,
 "nbformat_minor": 4
}
