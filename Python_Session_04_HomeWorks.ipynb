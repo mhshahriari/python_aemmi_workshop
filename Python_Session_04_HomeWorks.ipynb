{
 "cells": [
  {
   "cell_type": "markdown",
   "metadata": {},
   "source": [
    "# Tic Tac Toe GAME"
   ]
  },
  {
   "cell_type": "code",
   "execution_count": null,
   "metadata": {},
   "outputs": [],
   "source": []
  },
  {
   "cell_type": "code",
   "execution_count": null,
   "metadata": {},
   "outputs": [],
   "source": [
    "import random\n",
    "import matplotlib.pyplot as plt\n",
    "from copy import copy, deepcopy\n",
    "import time\n",
    "\n",
    "\n",
    "\n",
    "def convert_board_for_plot(table):\n",
    "    \n",
    "    for i in range(3):\n",
    "        for j in range(3):\n",
    "            if table[i][j] == 'X':\n",
    "                table[i][j] = 128\n",
    "            elif table[i][j] == 'O':\n",
    "                table[i][j] = 20\n",
    "            else:\n",
    "                table[i][j] = 255\n",
    "\n",
    "            \n",
    "def show(game):\n",
    "    table = deepcopy(game)\n",
    "    convert_board_for_plot(table)\n",
    "    plt.imshow(table, cmap='gray', vmin=0, vmax=255)\n",
    "    plt.show()\n",
    "    for i in range(3):\n",
    "        for j in range(3):\n",
    "            print (game[i][j], end=' ')\n",
    "        print()\n",
    "\n",
    "def check(game):\n",
    "    #row and col check\n",
    "    for i in range(3):\n",
    "        # row wise\n",
    "        if (game[i][0] == 'X' and  game[i][1] == 'X' and  game[i][2] == 'X') or (game[0][i] == 'X' and  game[1][i] == 'X' and  game[2][i] == 'X') :\n",
    "            print('*** Player 1 wins ***')\n",
    "            return (1)\n",
    "        elif (game[i][0] == 'O' and  game[i][1] == 'O' and  game[i][2] == 'O') or (game[0][i] == 'O' and  game[1][i] == 'O' and  game[2][i] == 'O') :\n",
    "            print('*** Player 2 wins ***')\n",
    "            return (1)\n",
    "     # diagonal check\n",
    "    if game[0][0] == 'X' and  game[1][1] == 'X' and  game[2][2] == 'X':\n",
    "        print('*** Player 1 wins ***')\n",
    "        return (1)\n",
    "    elif game[0][0] == 'O' and  game[1][1] == 'O' and  game[2][2] == 'O':\n",
    "        print('*** Player 2 wins ***')\n",
    "        return (1)\n",
    "    else:\n",
    "        for i in range(3):\n",
    "            for j in range(3):\n",
    "                if game[i][j] == \"-\":\n",
    "                    return (2)\n",
    "        print(\"Equal Game!\")\n",
    "        return (1)\n",
    "\n",
    "    \n",
    "\n",
    "def tictactoe_two_player(twoplayer):\n",
    "    game  = [['-', '-', '-'],\n",
    "            ['-', '-', '-'],\n",
    "            ['-', '-', '-']]\n",
    "\n",
    "    show(game)\n",
    "\n",
    "    while (True):\n",
    "        # Player 1\n",
    "        print(\"Player 1\")\n",
    "        while(True):\n",
    "            row = int(input(\"Row# \"))\n",
    "            col = int(input(\"Col# \"))\n",
    "\n",
    "            if 0<=row <=2 and 0<=col <=2: \n",
    "                if game[row][col] == \"-\":\n",
    "                    game [row][col] = 'X'\n",
    "                    break\n",
    "                else:\n",
    "                    print('error! this cell is not empty. try again.')\n",
    "\n",
    "            else:\n",
    "                print('error! index out of range. try again.')\n",
    "\n",
    "        show(game)\n",
    "\n",
    "        if(check(game) == 1):\n",
    "            break\n",
    "\n",
    "        # Player 2\n",
    "        print(\"Player 2\")\n",
    "\n",
    "        while(True):\n",
    "            if (twoplayer == True):\n",
    "                row = int(input(\"Row# \"))\n",
    "                col = int(input(\"Col# \"))\n",
    "            else:\n",
    "                row = random.randint(0, 2)\n",
    "                col = random.randint(0, 2)\n",
    "            \n",
    "\n",
    "            if 0<=row <=2 and 0<=col <=2: \n",
    "                if game[row][col] == \"-\":\n",
    "                    game [row][col] = 'O'\n",
    "                    break\n",
    "                elif(twoplayer == True):\n",
    "                    print('error! this cell is not empty. try again.')\n",
    "\n",
    "            elif (twoplayer == True):\n",
    "                print('error! index out of range. try again.')\n",
    "        show(game)\n",
    "        if(check(game) == 1):\n",
    "            break\n",
    "     \n",
    "            \n",
    "\n",
    "def menu():\n",
    "    while (True):\n",
    "        print (\"\"\"please select type of game:\n",
    "            1. Two player\n",
    "            2. Player and computer\n",
    "            3. exit\"\"\")\n",
    "        option = int(input(\"Enter option:\"))\n",
    "        if option in[1,2,3]:\n",
    "            return option\n",
    "        else:\n",
    "            print (\"wrong number!!! try again\")\n",
    "            \n",
    "\n",
    "            \n",
    "# show menu\n",
    "while(True):\n",
    "    start_time = time.time()\n",
    "    option = menu()\n",
    "    if option == 1:\n",
    "        tictactoe_two_player(True)\n",
    "    elif option == 2:\n",
    "        tictactoe_two_player(False)\n",
    "    else:\n",
    "        break\n",
    "    second = time.time() - start_time\n",
    "    if second<=60:\n",
    "        print(\"--- %s seconds ---\" % second)\n",
    "    else:\n",
    "        print(\"--- %s Minutes ---\" % (second/60))\n",
    "    \n"
   ]
  },
  {
   "cell_type": "markdown",
   "metadata": {},
   "source": [
    " "
   ]
  },
  {
   "cell_type": "code",
   "execution_count": null,
   "metadata": {},
   "outputs": [],
   "source": []
  },
  {
   "cell_type": "markdown",
   "metadata": {},
   "source": [
    "*#*#*#*#*#\n",
    "#*#*#*#*#*\n",
    "*#*#*#*#*#\n",
    "#*#*#*#*#*\n",
    "*#*#*#*#*#\n",
    "#*#*#*#*#*\n"
   ]
  },
  {
   "cell_type": "code",
   "execution_count": 1,
   "metadata": {
    "scrolled": true
   },
   "outputs": [
    {
     "name": "stdout",
     "output_type": "stream",
     "text": [
      "Row# 3\n",
      "Col# 3\n",
      "*#*\n",
      "#*#\n",
      "*#*\n"
     ]
    }
   ],
   "source": [
    "\n",
    "row = int(input(\"Row# \"))\n",
    "col = int(input(\"Col# \"))\n",
    "\n",
    "for i in range(row):\n",
    "    if i%2 == 0:\n",
    "        print('*', end='')\n",
    "        for j in range(1,col):\n",
    "            if j%2 == 0:\n",
    "                print('*', end='')\n",
    "            else:\n",
    "                print('#', end='')\n",
    "    else:\n",
    "        print('#', end='')\n",
    "        for j in range(1,col):\n",
    "            if j%2 == 0:\n",
    "                print('#', end='')\n",
    "            else:\n",
    "                print('*', end='')\n",
    "    print()\n"
   ]
  },
  {
   "cell_type": "code",
   "execution_count": null,
   "metadata": {},
   "outputs": [],
   "source": []
  },
  {
   "cell_type": "markdown",
   "metadata": {},
   "source": [
    "# Multiplication"
   ]
  },
  {
   "cell_type": "code",
   "execution_count": 7,
   "metadata": {},
   "outputs": [
    {
     "name": "stdout",
     "output_type": "stream",
     "text": [
      "Row# 4\n",
      "Col# 4\n",
      "1 | 2 | 3 | 4 | \n",
      "----------------\n",
      "2 | 4 | 6 | 8 | \n",
      "----------------\n",
      "3 | 6 | 9 | 12 | \n",
      "----------------\n",
      "4 | 8 | 12 | 16 | \n",
      "----------------\n"
     ]
    }
   ],
   "source": [
    "row = int(input(\"Row# \"))\n",
    "col = int(input(\"Col# \"))\n",
    "\n",
    "for i in range(1,row+1):\n",
    "    for j in range(1,col+1):\n",
    "        print(str(i*j)  + ' | ', end='')\n",
    "    print()\n",
    "    print('----' * col)"
   ]
  },
  {
   "cell_type": "code",
   "execution_count": null,
   "metadata": {},
   "outputs": [],
   "source": []
  },
  {
   "cell_type": "code",
   "execution_count": null,
   "metadata": {},
   "outputs": [],
   "source": []
  },
  {
   "cell_type": "markdown",
   "metadata": {},
   "source": [
    "# cubic equation"
   ]
  },
  {
   "cell_type": "code",
   "execution_count": 55,
   "metadata": {
    "scrolled": true
   },
   "outputs": [
    {
     "name": "stdout",
     "output_type": "stream",
     "text": [
      " x^3 + ax^2 + b x + c = 0\n",
      "a: -4\n",
      "b: 5\n",
      "c: -2\n",
      "-0.07407407407407351\n",
      "p:  -0.33333333333333304\n",
      "q:  -0.07407407407407351\n",
      "delata:  0\n",
      "x1: (1.0000000000000007-0.5773502691896244j)\n",
      "x2: (1.4999999999999996+0.2886751345948122j)\n",
      "x3: (1.4999999999999996+0.2886751345948122j)\n"
     ]
    }
   ],
   "source": [
    "import math\n",
    "from math import  sin, asin, cos, pi, sqrt\n",
    "\n",
    "\n",
    "print(\" x^3 + ax^2 + b x + c = 0\")\n",
    "\n",
    "a = float(input(\"a: \"))\n",
    "b = float(input(\"b: \"))\n",
    "c = float(input(\"c: \"))\n",
    "\n",
    "print((2 * (a**3)/27) - (a*b/3) + c)\n",
    "\n",
    "p = b - ((a**2)/3)\n",
    "q = (2 * (a**3)/27) - (a*b/3) + c\n",
    "delta = (q**2)/4 + ((p**3)/27)\n",
    "\n",
    "print(\"p: \", str(p))\n",
    "print(\"q: \", str(q))\n",
    "\n",
    "if delta <= 0.0001:\n",
    "    delta = 0\n",
    "print(\"delata: \", str(delta))\n",
    "\n",
    "if delta > 0:\n",
    "    x = (-1 * q/2 + float(sqrt(delta)) ** (1/3)) + (-1 * q/2 - float(sqrt(delta)) ** (1/3)) - (a/3)\n",
    "    print(\"Result is: \" + str(x))\n",
    "elif delta == 0:\n",
    "    x1 = -2 * ((q/2)**(1/3)) - (a/3)\n",
    "    x2 = (q/2) ** (1/3) - (a/3)\n",
    "    x3 = (q/2) ** (1/3) - (a/3)   \n",
    "    print(\"x1: \" + str(x1))\n",
    "    print(\"x2: \" + str(x2))\n",
    "    print(\"x3: \" + str(x3))\n",
    "else:\n",
    "    x1 = (2/sqrt(3)) * (sqrt(-1 * p)) * sin((1/3) * asin(3 * sqrt(3*q)/2 * (sqrt(-1 * p) **3)))  - a / 3\n",
    "    x2 = (2/sqrt(3)) * (sqrt(-1 * p)) * sin((1/3) * asin(3 * sqrt(3*q)/2 * (sqrt(-1 * p) **3)) + (pi/3)) - a / 3\n",
    "    x3 = (2/sqrt(3)) * (sqrt(-1 * p)) * sin((1/3) * asin(3 * sqrt(3*q)/2 * (sqrt(-1 * p) **3)) + (pi/3)) - a / 3  \n",
    "    print(\"x1: \" + str(x1))\n",
    "    print(\"x2: \" + str(x2))\n",
    "    print(\"x3: \" + str(x3))\n",
    "\n",
    "\n"
   ]
  },
  {
   "cell_type": "code",
   "execution_count": null,
   "metadata": {},
   "outputs": [],
   "source": []
  }
 ],
 "metadata": {
  "kernelspec": {
   "display_name": "Python 3",
   "language": "python",
   "name": "python3"
  },
  "language_info": {
   "codemirror_mode": {
    "name": "ipython",
    "version": 3
   },
   "file_extension": ".py",
   "mimetype": "text/x-python",
   "name": "python",
   "nbconvert_exporter": "python",
   "pygments_lexer": "ipython3",
   "version": "3.8.3"
  }
 },
 "nbformat": 4,
 "nbformat_minor": 4
}
