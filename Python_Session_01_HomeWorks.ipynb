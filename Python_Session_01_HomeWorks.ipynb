{
 "cells": [
  {
   "cell_type": "code",
   "execution_count": 27,
   "metadata": {},
   "outputs": [],
   "source": [
    "import math\n",
    "\n",
    "pi = math.pi"
   ]
  },
  {
   "cell_type": "code",
   "execution_count": 52,
   "metadata": {},
   "outputs": [
    {
     "name": "stdout",
     "output_type": "stream",
     "text": [
      "Enter operator: +|-|*|/|^|log|sqrt|sin|cos|tan|cot|foactorial:tan\n",
      "Enter Number:30\n",
      "Result:0.5773502691896257\n"
     ]
    }
   ],
   "source": [
    "op = input(\"Enter operator: +|-|*|/|^|log|sqrt|sin|cos|tan|cot|foactorial:\") \n",
    "\n",
    "a = float(input(\"Enter Number:\"))\n",
    "\n",
    "if op == \"+\" or op == \"-\" or op == \"*\" or op == \"/\" or op == \"^\" or op == \"log\":\n",
    "    b = float(input(\"Enter Number 2:\"))\n",
    "\n",
    "if op == \"+\":\n",
    "    result = a + b\n",
    "elif op == \"-\":\n",
    "    result = a - b\n",
    "elif op == \"*\":\n",
    "    result = a * b\n",
    "elif op == \"/\":\n",
    "    if b != 0:\n",
    "        result = a / b\n",
    "    else:\n",
    "        result = \"Error: Cannot devide by zero!\"\n",
    "elif op == \"^\":\n",
    "    result = a ** b\n",
    "elif op == \"log\":\n",
    "    result = math.log(a, b)\n",
    "elif op == \"sqrt\":\n",
    "    result = math.sqrt(a)\n",
    "elif op == \"sin\":\n",
    "    result = math.sin(a * (pi / 180))\n",
    "elif op == \"cos\":\n",
    "    result = math.cos(a * (pi / 180))\n",
    "elif op == \"tan\":\n",
    "    result = math.tan(a * (pi / 180))\n",
    "elif op == \"cot\":\n",
    "    result = 1 / math.tan(a * (pi / 180))\n",
    "elif op == \"factorial\":\n",
    "    result = math.factorial(a)\n",
    "else:\n",
    "    result = \"Error! opertor not found!\"\n",
    "\n",
    "print (\"Result:\" + str(result))"
   ]
  },
  {
   "cell_type": "code",
   "execution_count": null,
   "metadata": {},
   "outputs": [],
   "source": []
  },
  {
   "cell_type": "code",
   "execution_count": null,
   "metadata": {},
   "outputs": [],
   "source": [
    "# Check Triangle "
   ]
  },
  {
   "cell_type": "code",
   "execution_count": 37,
   "metadata": {},
   "outputs": [
    {
     "name": "stdout",
     "output_type": "stream",
     "text": [
      "Enter Number 1:3\n",
      "Enter Number 2:2\n",
      "Enter Number 3:7\n",
      "Wrong Numberts!\n"
     ]
    }
   ],
   "source": [
    "a = float(input(\"Enter Number 1:\"))\n",
    "b = float(input(\"Enter Number 2:\"))\n",
    "c = float(input(\"Enter Number 3:\"))\n",
    "\n",
    "if (a < b + c) and (b < a +c) and (c < a + b):\n",
    "    print (\"Right Numberts.\")\n",
    "else:\n",
    "    print (\"Wrong Numberts!!\")\n",
    "\n"
   ]
  },
  {
   "cell_type": "code",
   "execution_count": null,
   "metadata": {},
   "outputs": [],
   "source": []
  },
  {
   "cell_type": "code",
   "execution_count": 38,
   "metadata": {},
   "outputs": [],
   "source": [
    "# BMI  Calculation"
   ]
  },
  {
   "cell_type": "code",
   "execution_count": 46,
   "metadata": {},
   "outputs": [
    {
     "name": "stdout",
     "output_type": "stream",
     "text": [
      "Enter Weight:150\n",
      "Enter Height (cm):60\n",
      "Exteremley Obese!\n"
     ]
    }
   ],
   "source": [
    "weight = float(input(\"Enter Weight:\"))\n",
    "height = float(input(\"Enter Height (cm):\"))\n",
    "\n",
    "bmi  = weight/((height/100) ** 2)\n",
    "\n",
    "if bmi < 18.5:\n",
    "    result = \"Under Weight!\"\n",
    "elif bmi >= 18.5 and bmi < 24.9:\n",
    "    result = \"Normal\"\n",
    "elif bmi >= 25 and bmi < 29.9:\n",
    "    result = \"Over Weight!\"\n",
    "elif bmi >= 30 and bmi < 34.9:\n",
    "    result = \"Obese!\"\n",
    "else:\n",
    "    result = \"Exteremley Obese!\"\n",
    "\n",
    "print (result)"
   ]
  },
  {
   "cell_type": "code",
   "execution_count": null,
   "metadata": {},
   "outputs": [],
   "source": []
  }
 ],
 "metadata": {
  "kernelspec": {
   "display_name": "Python 3",
   "language": "python",
   "name": "python3"
  },
  "language_info": {
   "codemirror_mode": {
    "name": "ipython",
    "version": 3
   },
   "file_extension": ".py",
   "mimetype": "text/x-python",
   "name": "python",
   "nbconvert_exporter": "python",
   "pygments_lexer": "ipython3",
   "version": "3.8.3"
  }
 },
 "nbformat": 4,
 "nbformat_minor": 4
}
